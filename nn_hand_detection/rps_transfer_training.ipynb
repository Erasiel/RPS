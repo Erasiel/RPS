{
  "nbformat": 4,
  "nbformat_minor": 0,
  "metadata": {
    "colab": {
      "name": "rps_transfer.ipynb",
      "provenance": [],
      "collapsed_sections": []
    },
    "kernelspec": {
      "name": "python3",
      "display_name": "Python 3"
    },
    "language_info": {
      "name": "python"
    }
  },
  "cells": [
    {
      "cell_type": "code",
      "metadata": {
        "id": "SIoc_SyxHgKs"
      },
      "source": [
        "!unzip data.zip -d .\n",
        "! rm -rf data/train/none\n",
        "! rm -rf data/validation/none"
      ],
      "execution_count": null,
      "outputs": []
    },
    {
      "cell_type": "code",
      "metadata": {
        "id": "lByMz270Hjs2"
      },
      "source": [
        "from tensorflow.keras import applications\n",
        "\n",
        "base_model = applications.MobileNet(weights='imagenet',  \n",
        "                                    input_shape=(128, 128, 3),\n",
        "                                    include_top=False) "
      ],
      "execution_count": 2,
      "outputs": []
    },
    {
      "cell_type": "code",
      "metadata": {
        "colab": {
          "base_uri": "https://localhost:8080/"
        },
        "id": "8TaFxFQEHqAB",
        "outputId": "cb7446bf-ad1f-4572-d2fd-8da283970d08"
      },
      "source": [
        "from keras.models import Sequential\n",
        "from keras.layers import Conv2D, MaxPooling2D\n",
        "from keras.layers import Activation, Dropout, Flatten, Dense\n",
        "from keras.regularizers import l2\n",
        "\n",
        "model = Sequential()\n",
        "model.add(base_model)\n",
        "model.add(Flatten())\n",
        "model.add(Dense(64, kernel_regularizer=l2(1e-3), bias_regularizer=l2(1e-3)))\n",
        "model.add(Activation('relu'))\n",
        "model.add(Dropout(0.5))\n",
        "model.add(Dense(3))\n",
        "model.add(Activation('softmax'))\n",
        "\n",
        "model.compile(loss='categorical_crossentropy',\n",
        "              optimizer='adam',\n",
        "              metrics=['accuracy'])\n",
        "\n",
        "model.summary()"
      ],
      "execution_count": 3,
      "outputs": [
        {
          "output_type": "stream",
          "name": "stdout",
          "text": [
            "Model: \"sequential\"\n",
            "_________________________________________________________________\n",
            " Layer (type)                Output Shape              Param #   \n",
            "=================================================================\n",
            " mobilenet_1.00_128 (Functio  (None, 4, 4, 1024)       3228864   \n",
            " nal)                                                            \n",
            "                                                                 \n",
            " flatten (Flatten)           (None, 16384)             0         \n",
            "                                                                 \n",
            " dense (Dense)               (None, 64)                1048640   \n",
            "                                                                 \n",
            " activation (Activation)     (None, 64)                0         \n",
            "                                                                 \n",
            " dropout (Dropout)           (None, 64)                0         \n",
            "                                                                 \n",
            " dense_1 (Dense)             (None, 3)                 195       \n",
            "                                                                 \n",
            " activation_1 (Activation)   (None, 3)                 0         \n",
            "                                                                 \n",
            "=================================================================\n",
            "Total params: 4,277,699\n",
            "Trainable params: 4,255,811\n",
            "Non-trainable params: 21,888\n",
            "_________________________________________________________________\n"
          ]
        }
      ]
    },
    {
      "cell_type": "code",
      "metadata": {
        "colab": {
          "base_uri": "https://localhost:8080/"
        },
        "id": "QuyfmYUXJZwN",
        "outputId": "658a99ac-0c2b-4055-8f48-d742e0a6a68e"
      },
      "source": [
        "from keras.preprocessing.image import ImageDataGenerator, array_to_img, img_to_array, load_img\n",
        "\n",
        "batch_size = 16\n",
        "INPUT_SIZE=(128, 128)\n",
        "\n",
        "# this is the augmentation configuration we will use for training\n",
        "train_datagen = ImageDataGenerator(\n",
        "    rescale=1./255,\n",
        "    rotation_range=10,\n",
        "    width_shift_range=0.05,\n",
        "    height_shift_range=0.05,\n",
        "    # shear_range=0.1,\n",
        "    zoom_range=0.05,\n",
        "    horizontal_flip=True,\n",
        "    fill_mode='nearest'\n",
        ")\n",
        "\n",
        "# this is the augmentation configuration we will use for testing\n",
        "test_datagen = ImageDataGenerator(\n",
        "    rescale=1./255,\n",
        "    width_shift_range=0.001,\n",
        "    height_shift_range=0.001,\n",
        "    zoom_range=0.001,\n",
        "    horizontal_flip=True\n",
        ")\n",
        "\n",
        "# this is a generator that will read pictures found in\n",
        "# subfolders of 'data/train', and indefinitely generate\n",
        "# batches of augmented image data\n",
        "train_generator = train_datagen.flow_from_directory(\n",
        "    'data/train', \n",
        "    target_size=INPUT_SIZE, \n",
        "    # color_mode='grayscale',\n",
        "    color_mode='rgb',\n",
        "    batch_size=batch_size,\n",
        "    class_mode='categorical'\n",
        ")\n",
        "\n",
        "# this is a similar generator, for validation data\n",
        "validation_generator = test_datagen.flow_from_directory(\n",
        "    'data/validation',\n",
        "    target_size=INPUT_SIZE,\n",
        "    # color_mode='grayscale',\n",
        "    color_mode='rgb',\n",
        "    batch_size=batch_size,\n",
        "    class_mode='categorical'\n",
        ")"
      ],
      "execution_count": 4,
      "outputs": [
        {
          "output_type": "stream",
          "name": "stdout",
          "text": [
            "Found 1002 images belonging to 3 classes.\n",
            "Found 317 images belonging to 3 classes.\n"
          ]
        }
      ]
    },
    {
      "cell_type": "code",
      "metadata": {
        "colab": {
          "base_uri": "https://localhost:8080/"
        },
        "id": "d3OCYfSGICEx",
        "outputId": "342f0346-c9e3-4f6e-d3da-e89f5e3e9a61"
      },
      "source": [
        "from keras import callbacks\n",
        "\n",
        "model_checkpoint_callback = callbacks.ModelCheckpoint(\n",
        "    filepath=\".\",\n",
        "    save_weights_only=False,\n",
        "    monitor='val_accuracy',\n",
        "    mode='max',\n",
        "    save_best_only=True\n",
        ")\n",
        "\n",
        "history = model.fit(\n",
        "    train_generator,\n",
        "    steps_per_epoch=train_generator.samples/batch_size,\n",
        "    epochs=50,\n",
        "    validation_data=validation_generator,\n",
        "    validation_steps=validation_generator.samples/batch_size,\n",
        "    callbacks=[\n",
        "        # callbacks.EarlyStopping(monitor='val_accuracy', patience=25),\n",
        "        model_checkpoint_callback\n",
        "    ]\n",
        ")"
      ],
      "execution_count": 5,
      "outputs": [
        {
          "output_type": "stream",
          "name": "stdout",
          "text": [
            "Epoch 1/50\n",
            "63/62 [==============================] - ETA: 0s - loss: 1.1824 - accuracy: 0.7505"
          ]
        },
        {
          "output_type": "stream",
          "name": "stderr",
          "text": [
            "WARNING:absl:Function `_wrapped_model` contains input name(s) mobilenet_1.00_128_input with unsupported characters which will be renamed to mobilenet_1_00_128_input in the SavedModel.\n"
          ]
        },
        {
          "output_type": "stream",
          "name": "stdout",
          "text": [
            "INFO:tensorflow:Assets written to: ./assets\n"
          ]
        },
        {
          "output_type": "stream",
          "name": "stderr",
          "text": [
            "INFO:tensorflow:Assets written to: ./assets\n"
          ]
        },
        {
          "output_type": "stream",
          "name": "stdout",
          "text": [
            "\b\b\b\b\b\b\b\b\b\b\b\b\b\b\b\b\b\b\b\b\b\b\b\b\b\b\b\b\b\b\b\b\b\b\b\b\b\b\b\b\b\b\b\b\b\b\b\b\b\b\b\b\b\b\b\b\b\b\b\b\b\b\b\b\b\b\b\b\b\b\b\b\b\b\b\b\b\b\b\b\b\b\r62/62 [==============================] - 96s 1s/step - loss: 1.1824 - accuracy: 0.7505 - val_loss: 0.5631 - val_accuracy: 0.8833\n",
            "Epoch 2/50\n",
            "63/62 [==============================] - ETA: 0s - loss: 0.4749 - accuracy: 0.8822"
          ]
        },
        {
          "output_type": "stream",
          "name": "stderr",
          "text": [
            "WARNING:absl:Function `_wrapped_model` contains input name(s) mobilenet_1.00_128_input with unsupported characters which will be renamed to mobilenet_1_00_128_input in the SavedModel.\n"
          ]
        },
        {
          "output_type": "stream",
          "name": "stdout",
          "text": [
            "INFO:tensorflow:Assets written to: ./assets\n"
          ]
        },
        {
          "output_type": "stream",
          "name": "stderr",
          "text": [
            "INFO:tensorflow:Assets written to: ./assets\n"
          ]
        },
        {
          "output_type": "stream",
          "name": "stdout",
          "text": [
            "\b\b\b\b\b\b\b\b\b\b\b\b\b\b\b\b\b\b\b\b\b\b\b\b\b\b\b\b\b\b\b\b\b\b\b\b\b\b\b\b\b\b\b\b\b\b\b\b\b\b\b\b\b\b\b\b\b\b\b\b\b\b\b\b\b\b\b\b\b\b\b\b\b\b\b\b\b\b\b\b\b\b\r62/62 [==============================] - 92s 1s/step - loss: 0.4749 - accuracy: 0.8822 - val_loss: 0.3499 - val_accuracy: 0.9306\n",
            "Epoch 3/50\n",
            "62/62 [==============================] - 75s 1s/step - loss: 0.5654 - accuracy: 0.8383 - val_loss: 0.3794 - val_accuracy: 0.9148\n",
            "Epoch 4/50\n",
            "62/62 [==============================] - 75s 1s/step - loss: 0.4392 - accuracy: 0.8842 - val_loss: 0.4361 - val_accuracy: 0.9274\n",
            "Epoch 5/50\n",
            "62/62 [==============================] - 75s 1s/step - loss: 0.5784 - accuracy: 0.8433 - val_loss: 0.2976 - val_accuracy: 0.9117\n",
            "Epoch 6/50\n",
            "62/62 [==============================] - 75s 1s/step - loss: 0.4622 - accuracy: 0.8733 - val_loss: 0.3931 - val_accuracy: 0.9306\n",
            "Epoch 7/50\n",
            "63/62 [==============================] - ETA: 0s - loss: 0.2596 - accuracy: 0.9541"
          ]
        },
        {
          "output_type": "stream",
          "name": "stderr",
          "text": [
            "WARNING:absl:Function `_wrapped_model` contains input name(s) mobilenet_1.00_128_input with unsupported characters which will be renamed to mobilenet_1_00_128_input in the SavedModel.\n"
          ]
        },
        {
          "output_type": "stream",
          "name": "stdout",
          "text": [
            "INFO:tensorflow:Assets written to: ./assets\n"
          ]
        },
        {
          "output_type": "stream",
          "name": "stderr",
          "text": [
            "INFO:tensorflow:Assets written to: ./assets\n"
          ]
        },
        {
          "output_type": "stream",
          "name": "stdout",
          "text": [
            "\b\b\b\b\b\b\b\b\b\b\b\b\b\b\b\b\b\b\b\b\b\b\b\b\b\b\b\b\b\b\b\b\b\b\b\b\b\b\b\b\b\b\b\b\b\b\b\b\b\b\b\b\b\b\b\b\b\b\b\b\b\b\b\b\b\b\b\b\b\b\b\b\b\b\b\b\b\b\b\b\b\b\r62/62 [==============================] - 93s 1s/step - loss: 0.2596 - accuracy: 0.9541 - val_loss: 0.2063 - val_accuracy: 0.9811\n",
            "Epoch 8/50\n",
            "62/62 [==============================] - 76s 1s/step - loss: 0.4464 - accuracy: 0.8962 - val_loss: 0.6372 - val_accuracy: 0.9338\n",
            "Epoch 9/50\n",
            "62/62 [==============================] - 76s 1s/step - loss: 0.3425 - accuracy: 0.9132 - val_loss: 0.2930 - val_accuracy: 0.9621\n",
            "Epoch 10/50\n",
            "62/62 [==============================] - 75s 1s/step - loss: 0.3343 - accuracy: 0.9301 - val_loss: 0.6643 - val_accuracy: 0.9653\n",
            "Epoch 11/50\n",
            "63/62 [==============================] - ETA: 0s - loss: 0.3280 - accuracy: 0.9321"
          ]
        },
        {
          "output_type": "stream",
          "name": "stderr",
          "text": [
            "WARNING:absl:Function `_wrapped_model` contains input name(s) mobilenet_1.00_128_input with unsupported characters which will be renamed to mobilenet_1_00_128_input in the SavedModel.\n"
          ]
        },
        {
          "output_type": "stream",
          "name": "stdout",
          "text": [
            "INFO:tensorflow:Assets written to: ./assets\n"
          ]
        },
        {
          "output_type": "stream",
          "name": "stderr",
          "text": [
            "INFO:tensorflow:Assets written to: ./assets\n"
          ]
        },
        {
          "output_type": "stream",
          "name": "stdout",
          "text": [
            "\b\b\b\b\b\b\b\b\b\b\b\b\b\b\b\b\b\b\b\b\b\b\b\b\b\b\b\b\b\b\b\b\b\b\b\b\b\b\b\b\b\b\b\b\b\b\b\b\b\b\b\b\b\b\b\b\b\b\b\b\b\b\b\b\b\b\b\b\b\b\b\b\b\b\b\b\b\b\b\b\b\b\r62/62 [==============================] - 93s 1s/step - loss: 0.3280 - accuracy: 0.9321 - val_loss: 0.1633 - val_accuracy: 0.9937\n",
            "Epoch 12/50\n",
            "62/62 [==============================] - 75s 1s/step - loss: 0.5117 - accuracy: 0.8832 - val_loss: 0.5698 - val_accuracy: 0.8707\n",
            "Epoch 13/50\n",
            "62/62 [==============================] - 75s 1s/step - loss: 0.3763 - accuracy: 0.9032 - val_loss: 0.1257 - val_accuracy: 0.9905\n",
            "Epoch 14/50\n",
            "62/62 [==============================] - 74s 1s/step - loss: 0.2674 - accuracy: 0.9441 - val_loss: 0.1491 - val_accuracy: 0.9811\n",
            "Epoch 15/50\n",
            "62/62 [==============================] - 75s 1s/step - loss: 0.3251 - accuracy: 0.9461 - val_loss: 0.1051 - val_accuracy: 0.9937\n",
            "Epoch 16/50\n",
            "63/62 [==============================] - ETA: 0s - loss: 0.2293 - accuracy: 0.9581"
          ]
        },
        {
          "output_type": "stream",
          "name": "stderr",
          "text": [
            "WARNING:absl:Function `_wrapped_model` contains input name(s) mobilenet_1.00_128_input with unsupported characters which will be renamed to mobilenet_1_00_128_input in the SavedModel.\n"
          ]
        },
        {
          "output_type": "stream",
          "name": "stdout",
          "text": [
            "INFO:tensorflow:Assets written to: ./assets\n"
          ]
        },
        {
          "output_type": "stream",
          "name": "stderr",
          "text": [
            "INFO:tensorflow:Assets written to: ./assets\n"
          ]
        },
        {
          "output_type": "stream",
          "name": "stdout",
          "text": [
            "\b\b\b\b\b\b\b\b\b\b\b\b\b\b\b\b\b\b\b\b\b\b\b\b\b\b\b\b\b\b\b\b\b\b\b\b\b\b\b\b\b\b\b\b\b\b\b\b\b\b\b\b\b\b\b\b\b\b\b\b\b\b\b\b\b\b\b\b\b\b\b\b\b\b\b\b\b\b\b\b\b\b\r62/62 [==============================] - 92s 1s/step - loss: 0.2293 - accuracy: 0.9581 - val_loss: 0.1039 - val_accuracy: 0.9968\n",
            "Epoch 17/50\n",
            "62/62 [==============================] - 75s 1s/step - loss: 0.1689 - accuracy: 0.9691 - val_loss: 0.1135 - val_accuracy: 0.9905\n",
            "Epoch 18/50\n",
            "62/62 [==============================] - 75s 1s/step - loss: 0.3330 - accuracy: 0.9281 - val_loss: 0.2055 - val_accuracy: 0.9590\n",
            "Epoch 19/50\n",
            "62/62 [==============================] - 75s 1s/step - loss: 0.2244 - accuracy: 0.9551 - val_loss: 0.1017 - val_accuracy: 0.9905\n",
            "Epoch 20/50\n",
            "62/62 [==============================] - 76s 1s/step - loss: 0.3132 - accuracy: 0.9321 - val_loss: 0.6755 - val_accuracy: 0.8801\n",
            "Epoch 21/50\n",
            "62/62 [==============================] - 76s 1s/step - loss: 0.3088 - accuracy: 0.9222 - val_loss: 0.3346 - val_accuracy: 0.9306\n",
            "Epoch 22/50\n",
            "62/62 [==============================] - 75s 1s/step - loss: 0.3013 - accuracy: 0.8992 - val_loss: 0.1168 - val_accuracy: 0.9874\n",
            "Epoch 23/50\n",
            "62/62 [==============================] - 78s 1s/step - loss: 0.3342 - accuracy: 0.9032 - val_loss: 0.1790 - val_accuracy: 0.9464\n",
            "Epoch 24/50\n",
            "62/62 [==============================] - 76s 1s/step - loss: 0.2867 - accuracy: 0.9082 - val_loss: 0.2235 - val_accuracy: 0.9369\n",
            "Epoch 25/50\n",
            "62/62 [==============================] - 76s 1s/step - loss: 0.1976 - accuracy: 0.9451 - val_loss: 0.0944 - val_accuracy: 0.9937\n",
            "Epoch 26/50\n",
            "62/62 [==============================] - 77s 1s/step - loss: 0.1696 - accuracy: 0.9561 - val_loss: 0.1035 - val_accuracy: 0.9874\n",
            "Epoch 27/50\n",
            "62/62 [==============================] - 75s 1s/step - loss: 0.1352 - accuracy: 0.9780 - val_loss: 0.1088 - val_accuracy: 0.9905\n",
            "Epoch 28/50\n",
            "62/62 [==============================] - 76s 1s/step - loss: 0.2077 - accuracy: 0.9651 - val_loss: 0.3919 - val_accuracy: 0.9180\n",
            "Epoch 29/50\n",
            "62/62 [==============================] - 76s 1s/step - loss: 0.2875 - accuracy: 0.9401 - val_loss: 0.2847 - val_accuracy: 0.9085\n",
            "Epoch 30/50\n",
            "62/62 [==============================] - 76s 1s/step - loss: 0.2544 - accuracy: 0.9551 - val_loss: 0.1978 - val_accuracy: 0.9558\n",
            "Epoch 31/50\n",
            "62/62 [==============================] - 75s 1s/step - loss: 0.1837 - accuracy: 0.9561 - val_loss: 0.1139 - val_accuracy: 0.9937\n",
            "Epoch 32/50\n",
            "62/62 [==============================] - 76s 1s/step - loss: 0.1430 - accuracy: 0.9840 - val_loss: 0.1001 - val_accuracy: 0.9937\n",
            "Epoch 33/50\n",
            "62/62 [==============================] - 75s 1s/step - loss: 0.3253 - accuracy: 0.9261 - val_loss: 0.3063 - val_accuracy: 0.9905\n",
            "Epoch 34/50\n",
            "62/62 [==============================] - 75s 1s/step - loss: 0.2991 - accuracy: 0.9411 - val_loss: 0.1761 - val_accuracy: 0.9653\n",
            "Epoch 35/50\n",
            "62/62 [==============================] - 75s 1s/step - loss: 0.1980 - accuracy: 0.9481 - val_loss: 0.0728 - val_accuracy: 0.9937\n",
            "Epoch 36/50\n",
            "62/62 [==============================] - 75s 1s/step - loss: 0.1755 - accuracy: 0.9561 - val_loss: 0.1324 - val_accuracy: 0.9842\n",
            "Epoch 37/50\n",
            "62/62 [==============================] - 74s 1s/step - loss: 0.1798 - accuracy: 0.9691 - val_loss: 0.0861 - val_accuracy: 0.9937\n",
            "Epoch 38/50\n",
            "62/62 [==============================] - 75s 1s/step - loss: 0.1424 - accuracy: 0.9711 - val_loss: 0.0709 - val_accuracy: 0.9937\n",
            "Epoch 39/50\n",
            "62/62 [==============================] - 74s 1s/step - loss: 0.1556 - accuracy: 0.9621 - val_loss: 0.0915 - val_accuracy: 0.9905\n",
            "Epoch 40/50\n",
            "62/62 [==============================] - 75s 1s/step - loss: 0.2040 - accuracy: 0.9661 - val_loss: 0.1133 - val_accuracy: 0.9874\n",
            "Epoch 41/50\n",
            "62/62 [==============================] - 74s 1s/step - loss: 0.2132 - accuracy: 0.9671 - val_loss: 0.6099 - val_accuracy: 0.7603\n",
            "Epoch 42/50\n",
            "62/62 [==============================] - 75s 1s/step - loss: 0.2484 - accuracy: 0.9291 - val_loss: 0.0877 - val_accuracy: 0.9905\n",
            "Epoch 43/50\n",
            "62/62 [==============================] - 75s 1s/step - loss: 0.1210 - accuracy: 0.9750 - val_loss: 0.0799 - val_accuracy: 0.9874\n",
            "Epoch 44/50\n",
            "62/62 [==============================] - 76s 1s/step - loss: 0.2118 - accuracy: 0.9581 - val_loss: 0.1389 - val_accuracy: 0.9842\n",
            "Epoch 45/50\n",
            "62/62 [==============================] - 74s 1s/step - loss: 0.1483 - accuracy: 0.9711 - val_loss: 0.0792 - val_accuracy: 0.9905\n",
            "Epoch 46/50\n",
            "62/62 [==============================] - 74s 1s/step - loss: 0.1453 - accuracy: 0.9760 - val_loss: 0.2799 - val_accuracy: 0.9274\n",
            "Epoch 47/50\n",
            "62/62 [==============================] - 75s 1s/step - loss: 0.3450 - accuracy: 0.9142 - val_loss: 0.3429 - val_accuracy: 0.9148\n",
            "Epoch 48/50\n",
            "62/62 [==============================] - 75s 1s/step - loss: 0.1715 - accuracy: 0.9641 - val_loss: 0.1059 - val_accuracy: 0.9874\n",
            "Epoch 49/50\n",
            "62/62 [==============================] - 74s 1s/step - loss: 0.1444 - accuracy: 0.9681 - val_loss: 0.0811 - val_accuracy: 0.9937\n",
            "Epoch 50/50\n",
            "62/62 [==============================] - 75s 1s/step - loss: 0.1174 - accuracy: 0.9631 - val_loss: 0.0808 - val_accuracy: 0.9905\n"
          ]
        }
      ]
    },
    {
      "cell_type": "code",
      "metadata": {
        "colab": {
          "base_uri": "https://localhost:8080/",
          "height": 295
        },
        "id": "DIiLAsVCIEb7",
        "outputId": "3d18eef3-3ce5-4d17-a762-5f714fda2d9e"
      },
      "source": [
        "from matplotlib import pyplot as plt\n",
        "\n",
        "plt.plot(history.history['accuracy'])\n",
        "plt.plot(history.history['val_accuracy'])\n",
        "plt.title('model accuracy')\n",
        "plt.ylabel('accuracy')\n",
        "plt.xlabel('epoch')\n",
        "plt.legend(['train', 'val'], loc='upper left')\n",
        "plt.show()"
      ],
      "execution_count": 6,
      "outputs": [
        {
          "output_type": "display_data",
          "data": {
            "image/png": "[encoded data removed]",
            "text/plain": [
              "<Figure size 432x288 with 1 Axes>"
            ]
          },
          "metadata": {
            "needs_background": "light"
          }
        }
      ]
    },
    {
      "cell_type": "code",
      "metadata": {
        "id": "AJpvY5C2IPzj"
      },
      "source": [
        "model.save(\"rps_transfer_model.h5\")"
      ],
      "execution_count": 7,
      "outputs": []
    }
  ]
}